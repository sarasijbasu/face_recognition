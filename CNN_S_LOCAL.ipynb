{
 "cells": [
  {
   "cell_type": "code",
   "execution_count": 1,
   "metadata": {},
   "outputs": [],
   "source": [
    "import keras,os\n",
    "from keras.models import Sequential,Model\n",
    "from keras.layers import Input, Dense, Conv2D, MaxPool2D , Flatten ,AveragePooling2D ,BatchNormalization,Dropout,MaxPooling2D,Activation,Lambda\n",
    "from tensorflow.keras.preprocessing import image\n",
    "from keras.preprocessing.image import ImageDataGenerator\n",
    "# from tensorflow.keras.preprocessing.image import ImageDataGenerator,load_img\n",
    "import numpy as np\n",
    "from glob import glob\n",
    "from keras import regularizers, callbacks\n",
    "from keras.callbacks import ModelCheckpoint, EarlyStopping\n",
    "import matplotlib.pyplot as plt"
   ]
  },
  {
   "cell_type": "code",
   "execution_count": 3,
   "metadata": {},
   "outputs": [
    {
     "name": "stdout",
     "output_type": "stream",
     "text": [
      "Found 1550 images belonging to 38 classes.\n",
      "Found 414 images belonging to 38 classes.\n"
     ]
    }
   ],
   "source": [
    "trdata = ImageDataGenerator()\n",
    "traindata = trdata.flow_from_directory(directory='C:\\\\Users\\\\saras\\\\Desktop\\\\New folder\\\\CroppedYale\\\\CroppedYale\\\\train',target_size=(224,224))\n",
    "tsdata = ImageDataGenerator()\n",
    "testdata = tsdata.flow_from_directory(directory='C:\\\\Users\\\\saras\\\\Desktop\\\\New folder\\\\CroppedYale\\\\CroppedYale\\\\val', target_size=(224,224))"
   ]
  },
  {
   "cell_type": "code",
   "execution_count": 4,
   "metadata": {},
   "outputs": [],
   "source": [
    "input_shape = (168, 192, 3) #168 X 192\n",
    "model=Sequential()\n",
    "\n",
    "model.add(Conv2D(filters=16,kernel_size=2,padding=\"same\",activation=\"relu\",input_shape=(224,224,3)))\n",
    "model.add(MaxPooling2D(pool_size=2))\n",
    "model.add(Conv2D(filters=32,kernel_size=2,padding=\"same\",activation =\"relu\"))\n",
    "model.add(MaxPooling2D(pool_size=2))\n",
    "model.add(Conv2D(filters=64,kernel_size=2,padding=\"same\",activation=\"relu\"))\n",
    "model.add(MaxPooling2D(pool_size=2))"
   ]
  },
  {
   "cell_type": "code",
   "execution_count": 5,
   "metadata": {},
   "outputs": [],
   "source": [
    "model.add(Flatten())\n",
    "model.add(Dense(units=4096,activation=\"relu\"))\n",
    "model.add(Dense(units=4096,activation=\"relu\"))\n",
    "model.add(Dense(units=38, activation=\"softmax\"))"
   ]
  },
  {
   "cell_type": "code",
   "execution_count": null,
   "metadata": {},
   "outputs": [],
   "source": []
  },
  {
   "cell_type": "code",
   "execution_count": 6,
   "metadata": {},
   "outputs": [
    {
     "name": "stderr",
     "output_type": "stream",
     "text": [
      "C:\\Users\\saras\\anaconda3\\lib\\site-packages\\keras\\optimizers\\optimizer_v2\\adam.py:110: UserWarning: The `lr` argument is deprecated, use `learning_rate` instead.\n",
      "  super(Adam, self).__init__(name, **kwargs)\n"
     ]
    }
   ],
   "source": [
    "from keras.optimizers import Adam\n",
    "opt = Adam(lr=0.001)\n",
    "model.compile(optimizer=opt, loss=keras.losses.categorical_crossentropy, metrics=['accuracy'])"
   ]
  },
  {
   "cell_type": "code",
   "execution_count": 7,
   "metadata": {},
   "outputs": [
    {
     "name": "stdout",
     "output_type": "stream",
     "text": [
      "Model: \"sequential\"\n",
      "_________________________________________________________________\n",
      " Layer (type)                Output Shape              Param #   \n",
      "=================================================================\n",
      " conv2d (Conv2D)             (None, 224, 224, 16)      208       \n",
      "                                                                 \n",
      " max_pooling2d (MaxPooling2D  (None, 112, 112, 16)     0         \n",
      " )                                                               \n",
      "                                                                 \n",
      " conv2d_1 (Conv2D)           (None, 112, 112, 32)      2080      \n",
      "                                                                 \n",
      " max_pooling2d_1 (MaxPooling  (None, 56, 56, 32)       0         \n",
      " 2D)                                                             \n",
      "                                                                 \n",
      " conv2d_2 (Conv2D)           (None, 56, 56, 64)        8256      \n",
      "                                                                 \n",
      " max_pooling2d_2 (MaxPooling  (None, 28, 28, 64)       0         \n",
      " 2D)                                                             \n",
      "                                                                 \n",
      " flatten (Flatten)           (None, 50176)             0         \n",
      "                                                                 \n",
      " dense (Dense)               (None, 4096)              205524992 \n",
      "                                                                 \n",
      " dense_1 (Dense)             (None, 4096)              16781312  \n",
      "                                                                 \n",
      " dense_2 (Dense)             (None, 38)                155686    \n",
      "                                                                 \n",
      "=================================================================\n",
      "Total params: 222,472,534\n",
      "Trainable params: 222,472,534\n",
      "Non-trainable params: 0\n",
      "_________________________________________________________________\n"
     ]
    }
   ],
   "source": [
    "model.summary()"
   ]
  },
  {
   "cell_type": "code",
   "execution_count": 8,
   "metadata": {},
   "outputs": [],
   "source": [
    "# Create an Instance of Early Stopping Callback\n",
    "early_stopping_callback = EarlyStopping(monitor = 'val_loss', patience = 10, mode = 'min', restore_best_weights = True)"
   ]
  },
  {
   "cell_type": "code",
   "execution_count": 9,
   "metadata": {
    "scrolled": true
   },
   "outputs": [
    {
     "name": "stdout",
     "output_type": "stream",
     "text": [
      "WARNING:tensorflow:`period` argument is deprecated. Please use `save_freq` to specify the frequency in number of batches seen.\n"
     ]
    },
    {
     "name": "stderr",
     "output_type": "stream",
     "text": [
      "C:\\Users\\saras\\AppData\\Local\\Temp\\ipykernel_5144\\3525565593.py:3: UserWarning: `Model.fit_generator` is deprecated and will be removed in a future version. Please use `Model.fit`, which supports generators.\n",
      "  hist = model.fit_generator(steps_per_epoch=25,generator=traindata, validation_data= testdata, validation_steps=10,epochs=100,callbacks=[early_stopping_callback])\n"
     ]
    },
    {
     "name": "stdout",
     "output_type": "stream",
     "text": [
      "Epoch 1/100\n",
      "25/25 [==============================] - 66s 3s/step - loss: 316.6792 - accuracy: 0.0275 - val_loss: 3.8407 - val_accuracy: 0.0281\n",
      "Epoch 2/100\n",
      "25/25 [==============================] - 65s 3s/step - loss: 3.6830 - accuracy: 0.0665 - val_loss: 3.3183 - val_accuracy: 0.1688\n",
      "Epoch 3/100\n",
      "25/25 [==============================] - 62s 2s/step - loss: 2.4831 - accuracy: 0.3581 - val_loss: 2.1030 - val_accuracy: 0.3906\n",
      "Epoch 4/100\n",
      "25/25 [==============================] - 61s 2s/step - loss: 1.3756 - accuracy: 0.6407 - val_loss: 0.6270 - val_accuracy: 0.8281\n",
      "Epoch 5/100\n",
      "25/25 [==============================] - 61s 2s/step - loss: 0.5403 - accuracy: 0.8750 - val_loss: 0.4379 - val_accuracy: 0.8781\n",
      "Epoch 6/100\n",
      "25/25 [==============================] - 63s 3s/step - loss: 0.2236 - accuracy: 0.9412 - val_loss: 0.3377 - val_accuracy: 0.9094\n",
      "Epoch 7/100\n",
      "25/25 [==============================] - 62s 3s/step - loss: 0.1564 - accuracy: 0.9604 - val_loss: 0.2608 - val_accuracy: 0.9125\n",
      "Epoch 8/100\n",
      "25/25 [==============================] - 63s 3s/step - loss: 0.1296 - accuracy: 0.9693 - val_loss: 0.2173 - val_accuracy: 0.9250\n",
      "Epoch 9/100\n",
      "25/25 [==============================] - 61s 2s/step - loss: 0.0743 - accuracy: 0.9821 - val_loss: 0.2261 - val_accuracy: 0.9406\n",
      "Epoch 10/100\n",
      "25/25 [==============================] - 60s 2s/step - loss: 0.0810 - accuracy: 0.9910 - val_loss: 0.1791 - val_accuracy: 0.9656\n",
      "Epoch 11/100\n",
      "25/25 [==============================] - 63s 3s/step - loss: 0.0154 - accuracy: 0.9987 - val_loss: 0.1722 - val_accuracy: 0.9656\n",
      "Epoch 12/100\n",
      "25/25 [==============================] - 63s 3s/step - loss: 0.0337 - accuracy: 0.9923 - val_loss: 0.1782 - val_accuracy: 0.9563\n",
      "Epoch 13/100\n",
      "25/25 [==============================] - 63s 3s/step - loss: 0.0362 - accuracy: 0.9962 - val_loss: 0.1337 - val_accuracy: 0.9656\n",
      "Epoch 14/100\n",
      "25/25 [==============================] - 61s 2s/step - loss: 0.0168 - accuracy: 0.9974 - val_loss: 0.1059 - val_accuracy: 0.9719\n",
      "Epoch 15/100\n",
      "25/25 [==============================] - 61s 2s/step - loss: 0.0288 - accuracy: 0.9975 - val_loss: 0.1532 - val_accuracy: 0.9594\n",
      "Epoch 16/100\n",
      "25/25 [==============================] - 62s 2s/step - loss: 0.0073 - accuracy: 0.9987 - val_loss: 0.1274 - val_accuracy: 0.9719\n",
      "Epoch 17/100\n",
      "25/25 [==============================] - 63s 3s/step - loss: 0.0085 - accuracy: 0.9987 - val_loss: 0.1731 - val_accuracy: 0.9688\n",
      "Epoch 18/100\n",
      "25/25 [==============================] - 72s 3s/step - loss: 0.0130 - accuracy: 0.9962 - val_loss: 0.1882 - val_accuracy: 0.9625\n",
      "Epoch 19/100\n",
      "25/25 [==============================] - 66s 3s/step - loss: 0.0711 - accuracy: 0.9962 - val_loss: 0.1456 - val_accuracy: 0.9750\n",
      "Epoch 20/100\n",
      "25/25 [==============================] - 61s 2s/step - loss: 0.0229 - accuracy: 0.9987 - val_loss: 0.0894 - val_accuracy: 0.9844\n",
      "Epoch 21/100\n",
      "25/25 [==============================] - 64s 3s/step - loss: 0.0297 - accuracy: 0.9949 - val_loss: 0.1435 - val_accuracy: 0.9719\n",
      "Epoch 22/100\n",
      "25/25 [==============================] - 66s 3s/step - loss: 0.0306 - accuracy: 0.9987 - val_loss: 0.1389 - val_accuracy: 0.9656\n",
      "Epoch 23/100\n",
      "25/25 [==============================] - 66s 3s/step - loss: 0.0279 - accuracy: 0.9975 - val_loss: 0.1308 - val_accuracy: 0.9656\n",
      "Epoch 24/100\n",
      "25/25 [==============================] - 69s 3s/step - loss: 0.0013 - accuracy: 1.0000 - val_loss: 0.1209 - val_accuracy: 0.9719\n",
      "Epoch 25/100\n",
      "25/25 [==============================] - 64s 3s/step - loss: 0.0124 - accuracy: 0.9975 - val_loss: 0.1316 - val_accuracy: 0.9719\n",
      "Epoch 26/100\n",
      "25/25 [==============================] - 74s 3s/step - loss: 6.1020e-04 - accuracy: 1.0000 - val_loss: 0.0938 - val_accuracy: 0.9844\n",
      "Epoch 27/100\n",
      "25/25 [==============================] - 66s 3s/step - loss: 0.0045 - accuracy: 0.9987 - val_loss: 0.1299 - val_accuracy: 0.9719\n",
      "Epoch 28/100\n",
      "25/25 [==============================] - 63s 3s/step - loss: 0.0196 - accuracy: 0.9962 - val_loss: 0.1032 - val_accuracy: 0.9812\n",
      "Epoch 29/100\n",
      "25/25 [==============================] - 69s 3s/step - loss: 0.0097 - accuracy: 0.9987 - val_loss: 0.1081 - val_accuracy: 0.9750\n",
      "Epoch 30/100\n",
      "25/25 [==============================] - 64s 3s/step - loss: 9.5250e-04 - accuracy: 1.0000 - val_loss: 0.1125 - val_accuracy: 0.9781\n"
     ]
    }
   ],
   "source": [
    "checkpoint = ModelCheckpoint(\"cnn_1.h5\", monitor='val_acc', verbose=1, save_best_only=True, save_weights_only=False, mode='auto', period=1)\n",
    "early = EarlyStopping(monitor='val_acc', min_delta=0, patience=20, verbose=1, mode='auto') \n",
    "hist = model.fit_generator(steps_per_epoch=25,generator=traindata, validation_data= testdata, validation_steps=10,epochs=100,callbacks=[early_stopping_callback])"
   ]
  },
  {
   "cell_type": "code",
   "execution_count": null,
   "metadata": {},
   "outputs": [],
   "source": []
  }
 ],
 "metadata": {
  "colab": {
   "collapsed_sections": [],
   "name": "Untitled8.ipynb",
   "provenance": []
  },
  "kernelspec": {
   "display_name": "Python 3 (ipykernel)",
   "language": "python",
   "name": "python3"
  },
  "language_info": {
   "codemirror_mode": {
    "name": "ipython",
    "version": 3
   },
   "file_extension": ".py",
   "mimetype": "text/x-python",
   "name": "python",
   "nbconvert_exporter": "python",
   "pygments_lexer": "ipython3",
   "version": "3.9.12"
  }
 },
 "nbformat": 4,
 "nbformat_minor": 1
}
