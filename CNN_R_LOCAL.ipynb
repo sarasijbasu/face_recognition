{
 "cells": [
  {
   "cell_type": "code",
   "execution_count": 4,
   "metadata": {
    "id": "DbwfRnb_EzA4"
   },
   "outputs": [],
   "source": [
    "import keras\n",
    "import numpy as np\n",
    "import cv2\n",
    "import matplotlib.pyplot as plt\n",
    "import os\n",
    "import pickle\n",
    "import random\n",
    "import tensorflow as tf\n",
    "\n",
    "from tensorflow.keras import layers\n",
    "from keras.models import Sequential\n",
    "from keras.layers import Activation, Dense, Dropout, Conv2D, MaxPooling2D, AveragePooling2D, GlobalMaxPooling2D, Flatten, BatchNormalization, LSTM, Bidirectional\n",
    "from tensorflow.keras.optimizers import RMSprop, SGD\n",
    "from keras.preprocessing.image import ImageDataGenerator #, img_to_array\n",
    "\n",
    "# from keras.preprocessing.image import img_to_array\n",
    "from tensorflow.keras.utils import img_to_array\n",
    "from keras import backend as K\n",
    "from keras import regularizers#, callbacks\n",
    "from random import randint\n",
    "from keras.callbacks import ModelCheckpoint, EarlyStopping\n",
    "from sklearn.model_selection import train_test_split\n",
    "from sklearn.metrics.pairwise import cosine_similarity\n",
    "# from google.colab.patches import cv2_imshow\n",
    "\n"
   ]
  },
  {
   "cell_type": "code",
   "execution_count": 5,
   "metadata": {
    "colab": {
     "base_uri": "https://localhost:8080/"
    },
    "id": "4zwClb7qE5eI",
    "outputId": "f93ca7ad-89ef-4947-8624-a1ca9525fe52"
   },
   "outputs": [],
   "source": [
    "# from google.colab import drive\n",
    "# drive.mount('/content/drive')"
   ]
  },
  {
   "cell_type": "code",
   "execution_count": 6,
   "metadata": {
    "id": "9G-Q8VbIM3Ca"
   },
   "outputs": [],
   "source": [
    "def evaluate_model(test_images, test_labels, classes, dir_array):\n",
    "    with open('face_recognition_model.pkl', 'rb') as f:\n",
    "        model = pickle.load(f)\n",
    "\n",
    "    score = model.evaluate(test_images, test_labels, verbose=0)\n",
    "    print('Test loss:', score[0])\n",
    "    print('Test accuracy:', score[1])"
   ]
  },
  {
   "cell_type": "code",
   "execution_count": 9,
   "metadata": {
    "id": "-ni_z0qILEy_"
   },
   "outputs": [],
   "source": [
    "path = 'C:\\\\Users\\\\saras\\\\Desktop\\\\c_yale_me_dataset\\\\CroppedYale\\\\CroppedYale_2\\\\'\n",
    "    \n",
    "a = np.array([i for i in range(38)])\n",
    "classes = np.zeros((a.size, a.max() + 1))\n",
    "classes[np.arange(a.size), a] = 1\n",
    "train_array = []\n",
    "test_array = []\n",
    "dir_array = []\n",
    "\n",
    "# let random index and 20th(enumerate begins at 0 so index 19 represents image 20) pgm for test\n",
    "#image resolution 168x192\n",
    "for dir in os.listdir(path):\n",
    "    i1 = np.random.choice(range(0,65), 26)\n",
    "    for i1, img in enumerate(sorted(os.listdir(path + dir))):\n",
    "        image = cv2.imread(path + dir + '/' + img, 0)\n",
    "        image = cv2.resize(image, (64, 64))\n",
    "        image = image[:, :, np.newaxis]\n",
    "        if i1:\n",
    "          train_array.append((image, classes[os.listdir(path).index(dir)]))\n",
    "        elif not(i1):\n",
    "          test_array.append((image, classes[os.listdir(path).index(dir)]))\n",
    "    dir_array.append(dir)\n",
    "input_shape = (64, 64, 1) #168 X 192"
   ]
  },
  {
   "cell_type": "code",
   "execution_count": 10,
   "metadata": {
    "colab": {
     "base_uri": "https://localhost:8080/"
    },
    "id": "K9V6SQerNWMG",
    "outputId": "c497c952-f567-4972-d72a-9131bcf6130d"
   },
   "outputs": [
    {
     "name": "stdout",
     "output_type": "stream",
     "text": [
      "Model: \"sequential_1\"\n",
      "_________________________________________________________________\n",
      " Layer (type)                Output Shape              Param #   \n",
      "=================================================================\n",
      " conv2d (Conv2D)             (None, 62, 62, 32)        320       \n",
      "                                                                 \n",
      " average_pooling2d (AverageP  (None, 31, 31, 32)       0         \n",
      " ooling2D)                                                       \n",
      "                                                                 \n",
      " batch_normalization (BatchN  (None, 31, 31, 32)       128       \n",
      " ormalization)                                                   \n",
      "                                                                 \n",
      " dropout (Dropout)           (None, 31, 31, 32)        0         \n",
      "                                                                 \n",
      " conv2d_1 (Conv2D)           (None, 28, 28, 64)        32832     \n",
      "                                                                 \n",
      " max_pooling2d (MaxPooling2D  (None, 14, 14, 64)       0         \n",
      " )                                                               \n",
      "                                                                 \n",
      " batch_normalization_1 (Batc  (None, 14, 14, 64)       256       \n",
      " hNormalization)                                                 \n",
      "                                                                 \n",
      " dropout_1 (Dropout)         (None, 14, 14, 64)        0         \n",
      "                                                                 \n",
      " activation (Activation)     (None, 14, 14, 64)        0         \n",
      "                                                                 \n",
      " conv2d_2 (Conv2D)           (None, 10, 10, 128)       204928    \n",
      "                                                                 \n",
      " average_pooling2d_1 (Averag  (None, 5, 5, 128)        0         \n",
      " ePooling2D)                                                     \n",
      "                                                                 \n",
      " batch_normalization_2 (Batc  (None, 5, 5, 128)        512       \n",
      " hNormalization)                                                 \n",
      "                                                                 \n",
      " dropout_2 (Dropout)         (None, 5, 5, 128)         0         \n",
      "                                                                 \n",
      " activation_1 (Activation)   (None, 5, 5, 128)         0         \n",
      "                                                                 \n",
      " flatten (Flatten)           (None, 3200)              0         \n",
      "                                                                 \n",
      " dense (Dense)               (None, 2048)              6555648   \n",
      "                                                                 \n",
      " dropout_3 (Dropout)         (None, 2048)              0         \n",
      "                                                                 \n",
      " dense_1 (Dense)             (None, 38)                77862     \n",
      "                                                                 \n",
      "=================================================================\n",
      "Total params: 6,872,486\n",
      "Trainable params: 6,872,038\n",
      "Non-trainable params: 448\n",
      "_________________________________________________________________\n"
     ]
    }
   ],
   "source": [
    "model = Sequential()\n",
    "# convolutional layer 16 windows/filters of 3x3\n",
    "model.add(Conv2D(32, kernel_size=(3,3),\n",
    "                 activation='relu',\n",
    "                 kernel_regularizer=regularizers.l2(0.),\n",
    "                 activity_regularizer=regularizers.l2(0.),\n",
    "                 input_shape=input_shape))\n",
    "# max of each 2x2 block\n",
    "model.add(AveragePooling2D(pool_size=(2, 2)))\n",
    "#model.add(MaxPooling2D(pool_size=(2, 2)))\n",
    "\n",
    "# normalization\n",
    "model.add(BatchNormalization())\n",
    "# avoid overfitting\n",
    "model.add(Dropout(0.25))\n",
    "model.add(Conv2D(64, kernel_size=(4,4),\n",
    "                 activation='relu',\n",
    "                 kernel_regularizer=regularizers.l2(0.),\n",
    "                 activity_regularizer=regularizers.l2(0.)))\n",
    "model.add(MaxPooling2D(pool_size=(2, 2)))\n",
    "#model.add(AveragePooling2D(pool_size=(2, 2)))\n",
    "#model.add(layers.GlobalMaxPooling2D())\n",
    "model.add(BatchNormalization())\n",
    "model.add(Dropout(0.25))\n",
    "model.add(Activation('relu'))\n",
    "model.add(Conv2D(128, kernel_size=(5,5),\n",
    "                 activation='relu',\n",
    "                 kernel_regularizer=regularizers.l2(0.),\n",
    "                 activity_regularizer=regularizers.l2(0.)))\n",
    "#model.add(MaxPooling2D(pool_size=(2, 2)))\n",
    "#model.add(layers.GlobalMaxPooling2D())\n",
    "model.add(AveragePooling2D(pool_size=(2, 2)))\n",
    "model.add(BatchNormalization())\n",
    "model.add(Dropout(0.25))\n",
    "model.add(Activation('relu'))\n",
    "\n",
    "# flatten for final layers\n",
    "model.add(Flatten())\n",
    "# fully-connected layer\n",
    "model.add(Dense(2048, activation='relu',\n",
    "                kernel_regularizer=regularizers.l2(0.),\n",
    "                activity_regularizer=regularizers.l2(0.)))\n",
    "model.add(Dropout(0.25))\n",
    "model.add(Dense(38, activation='softmax'))\n",
    "model.summary()\n",
    "#opt = SGD(learning_rate = 0.01, decay = 0.0002, momentum = 0.8, nesterov = False)\n",
    "model.compile(loss='categorical_crossentropy',\n",
    "              optimizer='adam',\n",
    "              metrics=['accuracy'],\n",
    "              )"
   ]
  },
  {
   "cell_type": "code",
   "execution_count": 11,
   "metadata": {
    "id": "Tu2wYxbUTuES"
   },
   "outputs": [],
   "source": [
    "# Create an Instance of Early Stopping Callback\n",
    "early_stopping_callback = EarlyStopping(monitor = 'val_loss', patience = 10, mode = 'min', restore_best_weights = True)"
   ]
  },
  {
   "cell_type": "code",
   "execution_count": null,
   "metadata": {
    "colab": {
     "base_uri": "https://localhost:8080/"
    },
    "id": "82OtnVvANdS3",
    "outputId": "2dafb13f-145e-49de-d964-9703f4a39d0f"
   },
   "outputs": [
    {
     "name": "stdout",
     "output_type": "stream",
     "text": [
      "Epoch 1/100\n",
      "25/25 - 20s - loss: 4.4205 - accuracy: 0.1012 - val_loss: 12.6344 - val_accuracy: 0.0263 - 20s/epoch - 809ms/step\n",
      "Epoch 2/100\n",
      "25/25 - 17s - loss: 2.4063 - accuracy: 0.3757 - val_loss: 9.8534 - val_accuracy: 0.1053 - 17s/epoch - 680ms/step\n",
      "Epoch 3/100\n",
      "25/25 - 16s - loss: 1.3543 - accuracy: 0.6331 - val_loss: 4.5751 - val_accuracy: 0.1316 - 16s/epoch - 656ms/step\n",
      "Epoch 4/100\n",
      "25/25 - 19s - loss: 0.8514 - accuracy: 0.7587 - val_loss: 4.5818 - val_accuracy: 0.1579 - 19s/epoch - 751ms/step\n",
      "Epoch 5/100\n",
      "25/25 - 17s - loss: 0.5956 - accuracy: 0.8345 - val_loss: 2.7420 - val_accuracy: 0.2632 - 17s/epoch - 661ms/step\n",
      "Epoch 6/100\n",
      "25/25 - 16s - loss: 0.4468 - accuracy: 0.8749 - val_loss: 0.6467 - val_accuracy: 0.8947 - 16s/epoch - 652ms/step\n",
      "Epoch 7/100\n",
      "25/25 - 16s - loss: 0.3109 - accuracy: 0.9149 - val_loss: 0.4145 - val_accuracy: 1.0000 - 16s/epoch - 659ms/step\n",
      "Epoch 8/100\n",
      "25/25 - 17s - loss: 0.2522 - accuracy: 0.9273 - val_loss: 0.1997 - val_accuracy: 0.9737 - 17s/epoch - 669ms/step\n",
      "Epoch 9/100\n"
     ]
    }
   ],
   "source": [
    "train_images, train_labels = np.array([t[0] for t in train_array]), np.array([t[1] for t in train_array])\n",
    "test_images, test_labels = np.array([t[0] for t in test_array]), np.array([t[1] for t in test_array])\n",
    "# history = model.fit(train_images, train_labels,\n",
    "#                     batch_size=200,\n",
    "#                     epochs=10,\n",
    "#                     verbose=2,\n",
    "#                     validation_data=(test_images, test_labels))\n",
    "history = model.fit(x=train_images, y=train_labels,\n",
    "                    steps_per_epoch=25,\n",
    "                    epochs=100,\n",
    "                    verbose=2,\n",
    "                    validation_steps=10,\n",
    "                    validation_data=(test_images, test_labels),\n",
    "                    callbacks=[early_stopping_callback])\n",
    "\n",
    "# hist = model.fit_generator(steps_per_epoch=25,generator=(train_images,\n",
    "#                            validation_data= (test_images, test_labels), validation_steps=10,epochs=100,callbacks=[early_stopping_callback])"
   ]
  },
  {
   "cell_type": "code",
   "execution_count": null,
   "metadata": {
    "colab": {
     "base_uri": "https://localhost:8080/",
     "height": 573
    },
    "id": "lat_0yDHE7h0",
    "outputId": "1c598e2b-be5a-4d38-acc8-517deac65aa9"
   },
   "outputs": [
    {
     "data": {
      "image/png": "[encoded data removed]",
      "text/plain": [
       "<Figure size 432x288 with 1 Axes>"
      ]
     },
     "metadata": {
      "needs_background": "light"
     },
     "output_type": "display_data"
    },
    {
     "data": {
      "image/png": "[encoded data removed]",
      "text/plain": [
       "<Figure size 432x288 with 1 Axes>"
      ]
     },
     "metadata": {
      "needs_background": "light"
     },
     "output_type": "display_data"
    }
   ],
   "source": [
    "plt.plot(history.history['loss'])\n",
    "plt.plot(history.history['val_loss'])\n",
    "plt.title('model train vs validation loss')\n",
    "plt.ylabel('loss')\n",
    "plt.xlabel('epoch')\n",
    "plt.legend(['train', 'validation'], loc='upper right')\n",
    "plt.show()\n",
    "loss_train = history.history['accuracy']\n",
    "loss_val = history.history['val_accuracy']\n",
    "epochs = []\n",
    "for x in range (0,len(loss_train)):\n",
    "  epochs.append(x)\n",
    "plt.plot(epochs, loss_train, 'g', label='Training accuracy')\n",
    "plt.plot(epochs, loss_val, 'b', label='validation accuracy')\n",
    "plt.title('Training and Validation accuracy')\n",
    "plt.xlabel('Epochs')\n",
    "plt.ylabel('Accuracy')\n",
    "plt.legend()\n",
    "plt.show()\n",
    "with open('face_recognition_model.pkl', 'wb') as f:\n",
    "    pickle.dump(model, f)"
   ]
  },
  {
   "cell_type": "code",
   "execution_count": null,
   "metadata": {
    "colab": {
     "base_uri": "https://localhost:8080/"
    },
    "id": "OYtFvzUoTb-i",
    "outputId": "d7aef149-4503-4df6-e604-ae17b9d2259e"
   },
   "outputs": [
    {
     "name": "stdout",
     "output_type": "stream",
     "text": [
      "Test loss: 0.0005655656568706036\n",
      "Test accuracy: 1.0\n"
     ]
    }
   ],
   "source": [
    "evaluate_model(test_images, test_labels, classes, dir_array)"
   ]
  },
  {
   "cell_type": "code",
   "execution_count": null,
   "metadata": {
    "id": "cxvRoXxGTcsC"
   },
   "outputs": [],
   "source": []
  },
  {
   "cell_type": "code",
   "execution_count": null,
   "metadata": {
    "id": "66bVX7OSpyF4"
   },
   "outputs": [],
   "source": []
  }
 ],
 "metadata": {
  "colab": {
   "collapsed_sections": [],
   "provenance": []
  },
  "kernelspec": {
   "display_name": "Python 3 (ipykernel)",
   "language": "python",
   "name": "python3"
  },
  "language_info": {
   "codemirror_mode": {
    "name": "ipython",
    "version": 3
   },
   "file_extension": ".py",
   "mimetype": "text/x-python",
   "name": "python",
   "nbconvert_exporter": "python",
   "pygments_lexer": "ipython3",
   "version": "3.9.12"
  }
 },
 "nbformat": 4,
 "nbformat_minor": 1
}
