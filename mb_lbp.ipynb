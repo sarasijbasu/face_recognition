{
 "cells": [
  {
   "cell_type": "code",
   "execution_count": 2,
   "id": "4fdf3a2a",
   "metadata": {},
   "outputs": [],
   "source": [
    "from skimage.feature import multiblock_lbp\n",
    "import numpy as np\n",
    "from numpy.testing import assert_equal\n",
    "from skimage.transform import integral_image\n",
    "from skimage import data\n",
    "from matplotlib import pyplot as plt\n",
    "from skimage.feature import draw_multiblock_lbp\n",
    "import cv2\n",
    "import glob\n",
    "import glob"
   ]
  },
  {
   "cell_type": "code",
   "execution_count": 2,
   "id": "b2400d4d",
   "metadata": {},
   "outputs": [],
   "source": [
    "\n",
    "for item in \n",
    "# Create test matrix where first and fifth rectangles starting\n",
    "# from top left clockwise have greater value than the central one.\n",
    "test_img = np.zeros((9, 9), dtype='uint8')\n",
    "test_img[3:6, 3:6] = 1\n",
    "test_img[:3, :3] = 50\n",
    "test_img[6:, 6:] = 50\n",
    "\n",
    "# First and fifth bits should be filled. This correct value will\n",
    "#  be compared to the computed one.\n",
    "correct_answer = 0b10001000\n",
    "\n",
    "int_img = integral_image(test_img)\n",
    "\n",
    "lbp_code = multiblock_lbp(int_img, 0, 0, 3, 3)\n",
    "\n",
    "assert_equal(correct_answer, lbp_code)\n",
    "\n",
    "test_img = cv2.imread(\"image.png\",0)\n",
    "\n",
    "int_img = integral_image(test_img)\n",
    "\n",
    "lbp_code = multiblock_lbp(int_img, 0, 0, 90, 90)\n",
    "\n",
    "img = draw_multiblock_lbp(test_img, 0, 0, 90, 90,lbp_code=lbp_code, alpha=0.5)"
   ]
  },
  {
   "cell_type": "code",
   "execution_count": 4,
   "id": "c3e130e4",
   "metadata": {},
   "outputs": [
    {
     "data": {
      "text/plain": [
       "<matplotlib.image.AxesImage at 0x1bea5843dc0>"
      ]
     },
     "execution_count": 4,
     "metadata": {},
     "output_type": "execute_result"
    },
    {
     "data": {
      "image/png": "[encoded data removed]",
      "text/plain": [
       "<Figure size 432x288 with 1 Axes>"
      ]
     },
     "metadata": {
      "needs_background": "light"
     },
     "output_type": "display_data"
    }
   ],
   "source": [
    "plt.imshow(img,cmap=\"gray\")"
   ]
  },
  {
   "cell_type": "code",
   "execution_count": 8,
   "id": "fd62de2a",
   "metadata": {},
   "outputs": [
    {
     "data": {
      "text/plain": [
       "['C:\\\\Users\\\\saras\\\\Desktop\\\\New folder (2)\\\\CroppedYale\\\\1',\n",
       " 'C:\\\\Users\\\\saras\\\\Desktop\\\\New folder (2)\\\\CroppedYale\\\\10',\n",
       " 'C:\\\\Users\\\\saras\\\\Desktop\\\\New folder (2)\\\\CroppedYale\\\\11',\n",
       " 'C:\\\\Users\\\\saras\\\\Desktop\\\\New folder (2)\\\\CroppedYale\\\\12',\n",
       " 'C:\\\\Users\\\\saras\\\\Desktop\\\\New folder (2)\\\\CroppedYale\\\\13',\n",
       " 'C:\\\\Users\\\\saras\\\\Desktop\\\\New folder (2)\\\\CroppedYale\\\\14',\n",
       " 'C:\\\\Users\\\\saras\\\\Desktop\\\\New folder (2)\\\\CroppedYale\\\\15',\n",
       " 'C:\\\\Users\\\\saras\\\\Desktop\\\\New folder (2)\\\\CroppedYale\\\\16',\n",
       " 'C:\\\\Users\\\\saras\\\\Desktop\\\\New folder (2)\\\\CroppedYale\\\\17',\n",
       " 'C:\\\\Users\\\\saras\\\\Desktop\\\\New folder (2)\\\\CroppedYale\\\\18',\n",
       " 'C:\\\\Users\\\\saras\\\\Desktop\\\\New folder (2)\\\\CroppedYale\\\\19',\n",
       " 'C:\\\\Users\\\\saras\\\\Desktop\\\\New folder (2)\\\\CroppedYale\\\\2',\n",
       " 'C:\\\\Users\\\\saras\\\\Desktop\\\\New folder (2)\\\\CroppedYale\\\\20',\n",
       " 'C:\\\\Users\\\\saras\\\\Desktop\\\\New folder (2)\\\\CroppedYale\\\\21',\n",
       " 'C:\\\\Users\\\\saras\\\\Desktop\\\\New folder (2)\\\\CroppedYale\\\\22',\n",
       " 'C:\\\\Users\\\\saras\\\\Desktop\\\\New folder (2)\\\\CroppedYale\\\\23',\n",
       " 'C:\\\\Users\\\\saras\\\\Desktop\\\\New folder (2)\\\\CroppedYale\\\\24',\n",
       " 'C:\\\\Users\\\\saras\\\\Desktop\\\\New folder (2)\\\\CroppedYale\\\\25',\n",
       " 'C:\\\\Users\\\\saras\\\\Desktop\\\\New folder (2)\\\\CroppedYale\\\\26',\n",
       " 'C:\\\\Users\\\\saras\\\\Desktop\\\\New folder (2)\\\\CroppedYale\\\\27',\n",
       " 'C:\\\\Users\\\\saras\\\\Desktop\\\\New folder (2)\\\\CroppedYale\\\\28',\n",
       " 'C:\\\\Users\\\\saras\\\\Desktop\\\\New folder (2)\\\\CroppedYale\\\\29',\n",
       " 'C:\\\\Users\\\\saras\\\\Desktop\\\\New folder (2)\\\\CroppedYale\\\\3',\n",
       " 'C:\\\\Users\\\\saras\\\\Desktop\\\\New folder (2)\\\\CroppedYale\\\\30',\n",
       " 'C:\\\\Users\\\\saras\\\\Desktop\\\\New folder (2)\\\\CroppedYale\\\\31',\n",
       " 'C:\\\\Users\\\\saras\\\\Desktop\\\\New folder (2)\\\\CroppedYale\\\\32',\n",
       " 'C:\\\\Users\\\\saras\\\\Desktop\\\\New folder (2)\\\\CroppedYale\\\\33',\n",
       " 'C:\\\\Users\\\\saras\\\\Desktop\\\\New folder (2)\\\\CroppedYale\\\\34',\n",
       " 'C:\\\\Users\\\\saras\\\\Desktop\\\\New folder (2)\\\\CroppedYale\\\\35',\n",
       " 'C:\\\\Users\\\\saras\\\\Desktop\\\\New folder (2)\\\\CroppedYale\\\\36',\n",
       " 'C:\\\\Users\\\\saras\\\\Desktop\\\\New folder (2)\\\\CroppedYale\\\\37',\n",
       " 'C:\\\\Users\\\\saras\\\\Desktop\\\\New folder (2)\\\\CroppedYale\\\\38',\n",
       " 'C:\\\\Users\\\\saras\\\\Desktop\\\\New folder (2)\\\\CroppedYale\\\\4',\n",
       " 'C:\\\\Users\\\\saras\\\\Desktop\\\\New folder (2)\\\\CroppedYale\\\\5',\n",
       " 'C:\\\\Users\\\\saras\\\\Desktop\\\\New folder (2)\\\\CroppedYale\\\\6',\n",
       " 'C:\\\\Users\\\\saras\\\\Desktop\\\\New folder (2)\\\\CroppedYale\\\\7',\n",
       " 'C:\\\\Users\\\\saras\\\\Desktop\\\\New folder (2)\\\\CroppedYale\\\\8',\n",
       " 'C:\\\\Users\\\\saras\\\\Desktop\\\\New folder (2)\\\\CroppedYale\\\\9']"
      ]
     },
     "execution_count": 8,
     "metadata": {},
     "output_type": "execute_result"
    }
   ],
   "source": [
    "glob.glob(\"C:\\\\Users\\\\saras\\\\Desktop\\\\New folder (2)\\\\CroppedYale\\\\*\")"
   ]
  },
  {
   "cell_type": "code",
   "execution_count": 6,
   "id": "7e1d6186",
   "metadata": {},
   "outputs": [
    {
     "ename": "KeyError",
     "evalue": "'PGM'",
     "output_type": "error",
     "traceback": [
      "\u001b[1;31m---------------------------------------------------------------------------\u001b[0m",
      "\u001b[1;31mKeyError\u001b[0m                                  Traceback (most recent call last)",
      "Input \u001b[1;32mIn [6]\u001b[0m, in \u001b[0;36m<cell line: 1>\u001b[1;34m()\u001b[0m\n\u001b[0;32m     18\u001b[0m lbp_code \u001b[38;5;241m=\u001b[39m multiblock_lbp(int_img, \u001b[38;5;241m0\u001b[39m, \u001b[38;5;241m0\u001b[39m, \u001b[38;5;241m90\u001b[39m, \u001b[38;5;241m90\u001b[39m)\n\u001b[0;32m     20\u001b[0m img \u001b[38;5;241m=\u001b[39m draw_multiblock_lbp(test_img, \u001b[38;5;241m0\u001b[39m, \u001b[38;5;241m0\u001b[39m, \u001b[38;5;241m90\u001b[39m, \u001b[38;5;241m90\u001b[39m,lbp_code\u001b[38;5;241m=\u001b[39mlbp_code, alpha\u001b[38;5;241m=\u001b[39m\u001b[38;5;241m0.5\u001b[39m)    \n\u001b[1;32m---> 22\u001b[0m \u001b[43mplt\u001b[49m\u001b[38;5;241;43m.\u001b[39;49m\u001b[43mimsave\u001b[49m\u001b[43m(\u001b[49m\u001b[43mitem\u001b[49m\u001b[38;5;241;43m.\u001b[39;49m\u001b[43mreplace\u001b[49m\u001b[43m(\u001b[49m\u001b[38;5;124;43m\"\u001b[39;49m\u001b[38;5;124;43m.pgm\u001b[39;49m\u001b[38;5;124;43m\"\u001b[39;49m\u001b[43m,\u001b[49m\u001b[38;5;124;43mf\u001b[39;49m\u001b[38;5;124;43m\"\u001b[39;49m\u001b[38;5;124;43m_\u001b[39;49m\u001b[38;5;132;43;01m{\u001b[39;49;00m\u001b[43mi\u001b[49m\u001b[38;5;132;43;01m}\u001b[39;49;00m\u001b[38;5;124;43m.pgm\u001b[39;49m\u001b[38;5;124;43m\"\u001b[39;49m\u001b[43m)\u001b[49m\u001b[43m,\u001b[49m\u001b[43mimg\u001b[49m\u001b[43m,\u001b[49m\u001b[43mcmap\u001b[49m\u001b[38;5;241;43m=\u001b[39;49m\u001b[38;5;124;43m\"\u001b[39;49m\u001b[38;5;124;43mgray\u001b[39;49m\u001b[38;5;124;43m\"\u001b[39;49m\u001b[43m)\u001b[49m\n",
      "File \u001b[1;32m~\\anaconda3\\lib\\site-packages\\matplotlib\\pyplot.py:2144\u001b[0m, in \u001b[0;36mimsave\u001b[1;34m(fname, arr, **kwargs)\u001b[0m\n\u001b[0;32m   2142\u001b[0m \u001b[38;5;129m@_copy_docstring_and_deprecators\u001b[39m(matplotlib\u001b[38;5;241m.\u001b[39mimage\u001b[38;5;241m.\u001b[39mimsave)\n\u001b[0;32m   2143\u001b[0m \u001b[38;5;28;01mdef\u001b[39;00m \u001b[38;5;21mimsave\u001b[39m(fname, arr, \u001b[38;5;241m*\u001b[39m\u001b[38;5;241m*\u001b[39mkwargs):\n\u001b[1;32m-> 2144\u001b[0m     \u001b[38;5;28;01mreturn\u001b[39;00m matplotlib\u001b[38;5;241m.\u001b[39mimage\u001b[38;5;241m.\u001b[39mimsave(fname, arr, \u001b[38;5;241m*\u001b[39m\u001b[38;5;241m*\u001b[39mkwargs)\n",
      "File \u001b[1;32m~\\anaconda3\\lib\\site-packages\\matplotlib\\image.py:1675\u001b[0m, in \u001b[0;36mimsave\u001b[1;34m(fname, arr, vmin, vmax, cmap, format, origin, dpi, metadata, pil_kwargs)\u001b[0m\n\u001b[0;32m   1673\u001b[0m pil_kwargs\u001b[38;5;241m.\u001b[39msetdefault(\u001b[38;5;124m\"\u001b[39m\u001b[38;5;124mformat\u001b[39m\u001b[38;5;124m\"\u001b[39m, \u001b[38;5;28mformat\u001b[39m)\n\u001b[0;32m   1674\u001b[0m pil_kwargs\u001b[38;5;241m.\u001b[39msetdefault(\u001b[38;5;124m\"\u001b[39m\u001b[38;5;124mdpi\u001b[39m\u001b[38;5;124m\"\u001b[39m, (dpi, dpi))\n\u001b[1;32m-> 1675\u001b[0m image\u001b[38;5;241m.\u001b[39msave(fname, \u001b[38;5;241m*\u001b[39m\u001b[38;5;241m*\u001b[39mpil_kwargs)\n",
      "File \u001b[1;32m~\\anaconda3\\lib\\site-packages\\PIL\\Image.py:2201\u001b[0m, in \u001b[0;36mImage.save\u001b[1;34m(self, fp, format, **params)\u001b[0m\n\u001b[0;32m   2199\u001b[0m     save_handler \u001b[38;5;241m=\u001b[39m SAVE_ALL[\u001b[38;5;28mformat\u001b[39m\u001b[38;5;241m.\u001b[39mupper()]\n\u001b[0;32m   2200\u001b[0m \u001b[38;5;28;01melse\u001b[39;00m:\n\u001b[1;32m-> 2201\u001b[0m     save_handler \u001b[38;5;241m=\u001b[39m \u001b[43mSAVE\u001b[49m\u001b[43m[\u001b[49m\u001b[38;5;28;43mformat\u001b[39;49m\u001b[38;5;241;43m.\u001b[39;49m\u001b[43mupper\u001b[49m\u001b[43m(\u001b[49m\u001b[43m)\u001b[49m\u001b[43m]\u001b[49m\n\u001b[0;32m   2203\u001b[0m \u001b[38;5;28;01mif\u001b[39;00m open_fp:\n\u001b[0;32m   2204\u001b[0m     \u001b[38;5;28;01mif\u001b[39;00m params\u001b[38;5;241m.\u001b[39mget(\u001b[38;5;124m\"\u001b[39m\u001b[38;5;124mappend\u001b[39m\u001b[38;5;124m\"\u001b[39m, \u001b[38;5;28;01mFalse\u001b[39;00m):\n\u001b[0;32m   2205\u001b[0m         \u001b[38;5;66;03m# Open also for reading (\"+\"), because TIFF save_all\u001b[39;00m\n\u001b[0;32m   2206\u001b[0m         \u001b[38;5;66;03m# writer needs to go back and edit the written data.\u001b[39;00m\n",
      "\u001b[1;31mKeyError\u001b[0m: 'PGM'"
     ]
    }
   ],
   "source": [
    "\n",
    "for i,item in enumerate(glob.glob(\"C:\\\\Users\\\\saras\\\\Desktop\\\\New folder (2)\\\\CroppedYale\\\\1\\\\*.pgm\")):\n",
    "    test_img = np.zeros((9, 9), dtype='uint8')\n",
    "    test_img[3:6, 3:6] = 1\n",
    "    test_img[:3, :3] = 50\n",
    "    test_img[6:, 6:] = 50\n",
    "    correct_answer = 0b10001000\n",
    "    \n",
    "    int_img = integral_image(test_img)\n",
    "    \n",
    "    lbp_code = multiblock_lbp(int_img, 0, 0, 3, 3)\n",
    "    \n",
    "    assert_equal(correct_answer, lbp_code)\n",
    "    \n",
    "    test_img = cv2.imread(item,0)\n",
    "    \n",
    "    int_img = integral_image(test_img)\n",
    "    \n",
    "    lbp_code = multiblock_lbp(int_img, 0, 0, 90, 90)\n",
    "    \n",
    "    img = draw_multiblock_lbp(test_img, 0, 0, 90, 90,lbp_code=lbp_code, alpha=0.5)    \n",
    "    \n",
    "    plt.imsave(item.replace(\".pgm\",\".jpeg\"),img,cmap=\"gray\")\n",
    "    \n",
    "    \n",
    "\n",
    "        "
   ]
  },
  {
   "cell_type": "code",
   "execution_count": 50,
   "id": "01267b56",
   "metadata": {
    "scrolled": true
   },
   "outputs": [
    {
     "data": {
      "text/plain": [
       "'C:\\\\Users\\\\saras\\\\Desktop\\\\New folder (2)\\\\CroppedYale\\\\1\\\\01_P00A+000E+00.jpeg'"
      ]
     },
     "execution_count": 50,
     "metadata": {},
     "output_type": "execute_result"
    }
   ],
   "source": [
    "item.replace(\"pgm\",\"jpeg\")"
   ]
  },
  {
   "cell_type": "code",
   "execution_count": 5,
   "id": "26df26e3",
   "metadata": {},
   "outputs": [
    {
     "name": "stdout",
     "output_type": "stream",
     "text": [
      "0\n",
      "1\n",
      "2\n",
      "3\n",
      "4\n",
      "5\n",
      "6\n",
      "7\n",
      "8\n",
      "9\n",
      "10\n",
      "11\n",
      "12\n",
      "13\n",
      "14\n",
      "15\n",
      "16\n",
      "17\n",
      "18\n",
      "19\n",
      "20\n",
      "21\n",
      "22\n",
      "23\n",
      "24\n",
      "25\n",
      "26\n",
      "27\n",
      "28\n",
      "29\n",
      "30\n",
      "31\n",
      "32\n",
      "33\n",
      "34\n",
      "35\n",
      "36\n",
      "37\n",
      "38\n",
      "39\n",
      "40\n",
      "41\n",
      "42\n",
      "43\n",
      "44\n",
      "45\n",
      "46\n",
      "47\n",
      "48\n",
      "49\n",
      "50\n",
      "51\n",
      "52\n",
      "53\n",
      "54\n",
      "55\n",
      "56\n",
      "57\n",
      "58\n",
      "59\n",
      "60\n",
      "61\n",
      "62\n",
      "63\n",
      "64\n"
     ]
    }
   ],
   "source": []
  },
  {
   "cell_type": "code",
   "execution_count": null,
   "id": "d1fa6737",
   "metadata": {},
   "outputs": [],
   "source": []
  }
 ],
 "metadata": {
  "kernelspec": {
   "display_name": "Python 3 (ipykernel)",
   "language": "python",
   "name": "python3"
  },
  "language_info": {
   "codemirror_mode": {
    "name": "ipython",
    "version": 3
   },
   "file_extension": ".py",
   "mimetype": "text/x-python",
   "name": "python",
   "nbconvert_exporter": "python",
   "pygments_lexer": "ipython3",
   "version": "3.9.12"
  }
 },
 "nbformat": 4,
 "nbformat_minor": 5
}
