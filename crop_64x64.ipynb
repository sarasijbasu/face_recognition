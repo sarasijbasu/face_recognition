{
 "cells": [
  {
   "cell_type": "code",
   "execution_count": 42,
   "id": "31df9000",
   "metadata": {},
   "outputs": [],
   "source": [
    "import os\n",
    "import glob\n",
    "import cv2"
   ]
  },
  {
   "cell_type": "code",
   "execution_count": 43,
   "id": "4c255cd4",
   "metadata": {},
   "outputs": [],
   "source": [
    "os.getcwd()\n",
    "inner_folder=[]\n",
    "folder_path = []\n",
    "images=[]"
   ]
  },
  {
   "cell_type": "code",
   "execution_count": 44,
   "id": "0a1353e1",
   "metadata": {},
   "outputs": [],
   "source": [
    "for items in glob.glob(os.getcwd()+\"//*\"):\n",
    "    inner_folder.append(items.split(os.sep)[-1])"
   ]
  },
  {
   "cell_type": "code",
   "execution_count": 45,
   "id": "d9924e82",
   "metadata": {},
   "outputs": [],
   "source": [
    "for folders in inner_folder[0:-1]:\n",
    "    folder_path.append(os.getcwd()+\"//\"+folders)"
   ]
  },
  {
   "cell_type": "code",
   "execution_count": 46,
   "id": "212c1102",
   "metadata": {},
   "outputs": [],
   "source": [
    "\n",
    "for i in range (0,len(folder_path)):\n",
    "    images.append(glob.glob(folder_path[i]+\"//*.jpg\"))"
   ]
  },
  {
   "cell_type": "code",
   "execution_count": 50,
   "id": "4175c979",
   "metadata": {},
   "outputs": [],
   "source": [
    "import numpy as np"
   ]
  },
  {
   "cell_type": "code",
   "execution_count": 53,
   "id": "5f5fb952",
   "metadata": {},
   "outputs": [],
   "source": [
    "images = np.array(images)"
   ]
  },
  {
   "cell_type": "code",
   "execution_count": 56,
   "id": "70c38549",
   "metadata": {},
   "outputs": [],
   "source": [
    "images = images.flatten()"
   ]
  },
  {
   "cell_type": "code",
   "execution_count": 57,
   "id": "184eb880",
   "metadata": {},
   "outputs": [
    {
     "data": {
      "text/plain": [
       "array(['C:\\\\Users\\\\sarasij\\\\Desktop\\\\yaleface_project\\\\yaleface_face_extracted//subject01\\\\subject1_centerlight.jpg',\n",
       "       'C:\\\\Users\\\\sarasij\\\\Desktop\\\\yaleface_project\\\\yaleface_face_extracted//subject01\\\\subject1_glasses.jpg',\n",
       "       'C:\\\\Users\\\\sarasij\\\\Desktop\\\\yaleface_project\\\\yaleface_face_extracted//subject01\\\\subject1_happy.jpg',\n",
       "       'C:\\\\Users\\\\sarasij\\\\Desktop\\\\yaleface_project\\\\yaleface_face_extracted//subject01\\\\subject1_leftlight.jpg',\n",
       "       'C:\\\\Users\\\\sarasij\\\\Desktop\\\\yaleface_project\\\\yaleface_face_extracted//subject01\\\\subject1_noglasses.jpg',\n",
       "       'C:\\\\Users\\\\sarasij\\\\Desktop\\\\yaleface_project\\\\yaleface_face_extracted//subject01\\\\subject1_normal.jpg',\n",
       "       'C:\\\\Users\\\\sarasij\\\\Desktop\\\\yaleface_project\\\\yaleface_face_extracted//subject01\\\\subject1_rightlight.jpg',\n",
       "       'C:\\\\Users\\\\sarasij\\\\Desktop\\\\yaleface_project\\\\yaleface_face_extracted//subject01\\\\subject1_sad.jpg',\n",
       "       'C:\\\\Users\\\\sarasij\\\\Desktop\\\\yaleface_project\\\\yaleface_face_extracted//subject01\\\\subject1_sleepy.jpg',\n",
       "       'C:\\\\Users\\\\sarasij\\\\Desktop\\\\yaleface_project\\\\yaleface_face_extracted//subject01\\\\subject1_surprised.jpg',\n",
       "       'C:\\\\Users\\\\sarasij\\\\Desktop\\\\yaleface_project\\\\yaleface_face_extracted//subject01\\\\subject1_wink.jpg',\n",
       "       'C:\\\\Users\\\\sarasij\\\\Desktop\\\\yaleface_project\\\\yaleface_face_extracted//subject02\\\\subject02_centerlight.jpg',\n",
       "       'C:\\\\Users\\\\sarasij\\\\Desktop\\\\yaleface_project\\\\yaleface_face_extracted//subject02\\\\subject02_glasses.jpg',\n",
       "       'C:\\\\Users\\\\sarasij\\\\Desktop\\\\yaleface_project\\\\yaleface_face_extracted//subject02\\\\subject02_happy.jpg',\n",
       "       'C:\\\\Users\\\\sarasij\\\\Desktop\\\\yaleface_project\\\\yaleface_face_extracted//subject02\\\\subject02_leftlight.jpg',\n",
       "       'C:\\\\Users\\\\sarasij\\\\Desktop\\\\yaleface_project\\\\yaleface_face_extracted//subject02\\\\subject02_noglasses.jpg',\n",
       "       'C:\\\\Users\\\\sarasij\\\\Desktop\\\\yaleface_project\\\\yaleface_face_extracted//subject02\\\\subject02_normal.jpg',\n",
       "       'C:\\\\Users\\\\sarasij\\\\Desktop\\\\yaleface_project\\\\yaleface_face_extracted//subject02\\\\subject02_rightlight.jpg',\n",
       "       'C:\\\\Users\\\\sarasij\\\\Desktop\\\\yaleface_project\\\\yaleface_face_extracted//subject02\\\\subject02_sad.jpg',\n",
       "       'C:\\\\Users\\\\sarasij\\\\Desktop\\\\yaleface_project\\\\yaleface_face_extracted//subject02\\\\subject02_sleepy.jpg',\n",
       "       'C:\\\\Users\\\\sarasij\\\\Desktop\\\\yaleface_project\\\\yaleface_face_extracted//subject02\\\\subject02_surprised.jpg',\n",
       "       'C:\\\\Users\\\\sarasij\\\\Desktop\\\\yaleface_project\\\\yaleface_face_extracted//subject02\\\\subject02_wink.jpg',\n",
       "       'C:\\\\Users\\\\sarasij\\\\Desktop\\\\yaleface_project\\\\yaleface_face_extracted//subject03\\\\subject03_centerlight.jpg',\n",
       "       'C:\\\\Users\\\\sarasij\\\\Desktop\\\\yaleface_project\\\\yaleface_face_extracted//subject03\\\\subject03_glasses.jpg',\n",
       "       'C:\\\\Users\\\\sarasij\\\\Desktop\\\\yaleface_project\\\\yaleface_face_extracted//subject03\\\\subject03_happy.jpg',\n",
       "       'C:\\\\Users\\\\sarasij\\\\Desktop\\\\yaleface_project\\\\yaleface_face_extracted//subject03\\\\subject03_leftlight.jpg',\n",
       "       'C:\\\\Users\\\\sarasij\\\\Desktop\\\\yaleface_project\\\\yaleface_face_extracted//subject03\\\\subject03_noglasses.jpg',\n",
       "       'C:\\\\Users\\\\sarasij\\\\Desktop\\\\yaleface_project\\\\yaleface_face_extracted//subject03\\\\subject03_normal.jpg',\n",
       "       'C:\\\\Users\\\\sarasij\\\\Desktop\\\\yaleface_project\\\\yaleface_face_extracted//subject03\\\\subject03_rightlight.jpg',\n",
       "       'C:\\\\Users\\\\sarasij\\\\Desktop\\\\yaleface_project\\\\yaleface_face_extracted//subject03\\\\subject03_sad.jpg',\n",
       "       'C:\\\\Users\\\\sarasij\\\\Desktop\\\\yaleface_project\\\\yaleface_face_extracted//subject03\\\\subject03_sleepy.jpg',\n",
       "       'C:\\\\Users\\\\sarasij\\\\Desktop\\\\yaleface_project\\\\yaleface_face_extracted//subject03\\\\subject03_surprised.jpg',\n",
       "       'C:\\\\Users\\\\sarasij\\\\Desktop\\\\yaleface_project\\\\yaleface_face_extracted//subject03\\\\subject03_wink.jpg',\n",
       "       'C:\\\\Users\\\\sarasij\\\\Desktop\\\\yaleface_project\\\\yaleface_face_extracted//subject04\\\\subject04_centerlight.jpg',\n",
       "       'C:\\\\Users\\\\sarasij\\\\Desktop\\\\yaleface_project\\\\yaleface_face_extracted//subject04\\\\subject04_glasses.jpg',\n",
       "       'C:\\\\Users\\\\sarasij\\\\Desktop\\\\yaleface_project\\\\yaleface_face_extracted//subject04\\\\subject04_happy.jpg',\n",
       "       'C:\\\\Users\\\\sarasij\\\\Desktop\\\\yaleface_project\\\\yaleface_face_extracted//subject04\\\\subject04_leftlight.jpg',\n",
       "       'C:\\\\Users\\\\sarasij\\\\Desktop\\\\yaleface_project\\\\yaleface_face_extracted//subject04\\\\subject04_noglasses.jpg',\n",
       "       'C:\\\\Users\\\\sarasij\\\\Desktop\\\\yaleface_project\\\\yaleface_face_extracted//subject04\\\\subject04_normal.jpg',\n",
       "       'C:\\\\Users\\\\sarasij\\\\Desktop\\\\yaleface_project\\\\yaleface_face_extracted//subject04\\\\subject04_rightlight.jpg',\n",
       "       'C:\\\\Users\\\\sarasij\\\\Desktop\\\\yaleface_project\\\\yaleface_face_extracted//subject04\\\\subject04_sad.jpg',\n",
       "       'C:\\\\Users\\\\sarasij\\\\Desktop\\\\yaleface_project\\\\yaleface_face_extracted//subject04\\\\subject04_sleepy.jpg',\n",
       "       'C:\\\\Users\\\\sarasij\\\\Desktop\\\\yaleface_project\\\\yaleface_face_extracted//subject04\\\\subject04_surprised.jpg',\n",
       "       'C:\\\\Users\\\\sarasij\\\\Desktop\\\\yaleface_project\\\\yaleface_face_extracted//subject04\\\\subject04_wink.jpg',\n",
       "       'C:\\\\Users\\\\sarasij\\\\Desktop\\\\yaleface_project\\\\yaleface_face_extracted//subject05\\\\subject05_centerlight.jpg',\n",
       "       'C:\\\\Users\\\\sarasij\\\\Desktop\\\\yaleface_project\\\\yaleface_face_extracted//subject05\\\\subject05_glasses.jpg',\n",
       "       'C:\\\\Users\\\\sarasij\\\\Desktop\\\\yaleface_project\\\\yaleface_face_extracted//subject05\\\\subject05_happy.jpg',\n",
       "       'C:\\\\Users\\\\sarasij\\\\Desktop\\\\yaleface_project\\\\yaleface_face_extracted//subject05\\\\subject05_leftlight.jpg',\n",
       "       'C:\\\\Users\\\\sarasij\\\\Desktop\\\\yaleface_project\\\\yaleface_face_extracted//subject05\\\\subject05_noglasses.jpg',\n",
       "       'C:\\\\Users\\\\sarasij\\\\Desktop\\\\yaleface_project\\\\yaleface_face_extracted//subject05\\\\subject05_normal.jpg',\n",
       "       'C:\\\\Users\\\\sarasij\\\\Desktop\\\\yaleface_project\\\\yaleface_face_extracted//subject05\\\\subject05_rightlight.jpg',\n",
       "       'C:\\\\Users\\\\sarasij\\\\Desktop\\\\yaleface_project\\\\yaleface_face_extracted//subject05\\\\subject05_sad.jpg',\n",
       "       'C:\\\\Users\\\\sarasij\\\\Desktop\\\\yaleface_project\\\\yaleface_face_extracted//subject05\\\\subject05_sleepy.jpg',\n",
       "       'C:\\\\Users\\\\sarasij\\\\Desktop\\\\yaleface_project\\\\yaleface_face_extracted//subject05\\\\subject05_surprised.jpg',\n",
       "       'C:\\\\Users\\\\sarasij\\\\Desktop\\\\yaleface_project\\\\yaleface_face_extracted//subject05\\\\subject05_wink.jpg',\n",
       "       'C:\\\\Users\\\\sarasij\\\\Desktop\\\\yaleface_project\\\\yaleface_face_extracted//subject06\\\\subject06_centerlight.jpg',\n",
       "       'C:\\\\Users\\\\sarasij\\\\Desktop\\\\yaleface_project\\\\yaleface_face_extracted//subject06\\\\subject06_glasses.jpg',\n",
       "       'C:\\\\Users\\\\sarasij\\\\Desktop\\\\yaleface_project\\\\yaleface_face_extracted//subject06\\\\subject06_happy.jpg',\n",
       "       'C:\\\\Users\\\\sarasij\\\\Desktop\\\\yaleface_project\\\\yaleface_face_extracted//subject06\\\\subject06_leftlight.jpg',\n",
       "       'C:\\\\Users\\\\sarasij\\\\Desktop\\\\yaleface_project\\\\yaleface_face_extracted//subject06\\\\subject06_noglasses.jpg',\n",
       "       'C:\\\\Users\\\\sarasij\\\\Desktop\\\\yaleface_project\\\\yaleface_face_extracted//subject06\\\\subject06_normal.jpg',\n",
       "       'C:\\\\Users\\\\sarasij\\\\Desktop\\\\yaleface_project\\\\yaleface_face_extracted//subject06\\\\subject06_rightlight.jpg',\n",
       "       'C:\\\\Users\\\\sarasij\\\\Desktop\\\\yaleface_project\\\\yaleface_face_extracted//subject06\\\\subject06_sad.jpg',\n",
       "       'C:\\\\Users\\\\sarasij\\\\Desktop\\\\yaleface_project\\\\yaleface_face_extracted//subject06\\\\subject06_sleepy.jpg',\n",
       "       'C:\\\\Users\\\\sarasij\\\\Desktop\\\\yaleface_project\\\\yaleface_face_extracted//subject06\\\\subject06_surprised.jpg',\n",
       "       'C:\\\\Users\\\\sarasij\\\\Desktop\\\\yaleface_project\\\\yaleface_face_extracted//subject06\\\\subject06_wink.jpg',\n",
       "       'C:\\\\Users\\\\sarasij\\\\Desktop\\\\yaleface_project\\\\yaleface_face_extracted//subject07\\\\subject07_centerlight.jpg',\n",
       "       'C:\\\\Users\\\\sarasij\\\\Desktop\\\\yaleface_project\\\\yaleface_face_extracted//subject07\\\\subject07_glasses.jpg',\n",
       "       'C:\\\\Users\\\\sarasij\\\\Desktop\\\\yaleface_project\\\\yaleface_face_extracted//subject07\\\\subject07_happy.jpg',\n",
       "       'C:\\\\Users\\\\sarasij\\\\Desktop\\\\yaleface_project\\\\yaleface_face_extracted//subject07\\\\subject07_leftlight.jpg',\n",
       "       'C:\\\\Users\\\\sarasij\\\\Desktop\\\\yaleface_project\\\\yaleface_face_extracted//subject07\\\\subject07_noglasses.jpg',\n",
       "       'C:\\\\Users\\\\sarasij\\\\Desktop\\\\yaleface_project\\\\yaleface_face_extracted//subject07\\\\subject07_normal.jpg',\n",
       "       'C:\\\\Users\\\\sarasij\\\\Desktop\\\\yaleface_project\\\\yaleface_face_extracted//subject07\\\\subject07_rightlight.jpg',\n",
       "       'C:\\\\Users\\\\sarasij\\\\Desktop\\\\yaleface_project\\\\yaleface_face_extracted//subject07\\\\subject07_sad.jpg',\n",
       "       'C:\\\\Users\\\\sarasij\\\\Desktop\\\\yaleface_project\\\\yaleface_face_extracted//subject07\\\\subject07_sleepy.jpg',\n",
       "       'C:\\\\Users\\\\sarasij\\\\Desktop\\\\yaleface_project\\\\yaleface_face_extracted//subject07\\\\subject07_surprised.jpg',\n",
       "       'C:\\\\Users\\\\sarasij\\\\Desktop\\\\yaleface_project\\\\yaleface_face_extracted//subject07\\\\subject07_wink.jpg',\n",
       "       'C:\\\\Users\\\\sarasij\\\\Desktop\\\\yaleface_project\\\\yaleface_face_extracted//subject08\\\\subject08_centerlight.jpg',\n",
       "       'C:\\\\Users\\\\sarasij\\\\Desktop\\\\yaleface_project\\\\yaleface_face_extracted//subject08\\\\subject08_glasses.jpg',\n",
       "       'C:\\\\Users\\\\sarasij\\\\Desktop\\\\yaleface_project\\\\yaleface_face_extracted//subject08\\\\subject08_happy.jpg',\n",
       "       'C:\\\\Users\\\\sarasij\\\\Desktop\\\\yaleface_project\\\\yaleface_face_extracted//subject08\\\\subject08_leftlight.jpg',\n",
       "       'C:\\\\Users\\\\sarasij\\\\Desktop\\\\yaleface_project\\\\yaleface_face_extracted//subject08\\\\subject08_noglasses.jpg',\n",
       "       'C:\\\\Users\\\\sarasij\\\\Desktop\\\\yaleface_project\\\\yaleface_face_extracted//subject08\\\\subject08_normal.jpg',\n",
       "       'C:\\\\Users\\\\sarasij\\\\Desktop\\\\yaleface_project\\\\yaleface_face_extracted//subject08\\\\subject08_rightlight.jpg',\n",
       "       'C:\\\\Users\\\\sarasij\\\\Desktop\\\\yaleface_project\\\\yaleface_face_extracted//subject08\\\\subject08_sad.jpg',\n",
       "       'C:\\\\Users\\\\sarasij\\\\Desktop\\\\yaleface_project\\\\yaleface_face_extracted//subject08\\\\subject08_sleepy.jpg',\n",
       "       'C:\\\\Users\\\\sarasij\\\\Desktop\\\\yaleface_project\\\\yaleface_face_extracted//subject08\\\\subject08_surprised.jpg',\n",
       "       'C:\\\\Users\\\\sarasij\\\\Desktop\\\\yaleface_project\\\\yaleface_face_extracted//subject08\\\\subject08_wink.jpg',\n",
       "       'C:\\\\Users\\\\sarasij\\\\Desktop\\\\yaleface_project\\\\yaleface_face_extracted//subject09\\\\subject09_centerlight.jpg',\n",
       "       'C:\\\\Users\\\\sarasij\\\\Desktop\\\\yaleface_project\\\\yaleface_face_extracted//subject09\\\\subject09_glasses.jpg',\n",
       "       'C:\\\\Users\\\\sarasij\\\\Desktop\\\\yaleface_project\\\\yaleface_face_extracted//subject09\\\\subject09_happy.jpg',\n",
       "       'C:\\\\Users\\\\sarasij\\\\Desktop\\\\yaleface_project\\\\yaleface_face_extracted//subject09\\\\subject09_leftlight.jpg',\n",
       "       'C:\\\\Users\\\\sarasij\\\\Desktop\\\\yaleface_project\\\\yaleface_face_extracted//subject09\\\\subject09_noglasses.jpg',\n",
       "       'C:\\\\Users\\\\sarasij\\\\Desktop\\\\yaleface_project\\\\yaleface_face_extracted//subject09\\\\subject09_normal.jpg',\n",
       "       'C:\\\\Users\\\\sarasij\\\\Desktop\\\\yaleface_project\\\\yaleface_face_extracted//subject09\\\\subject09_rightlight.jpg',\n",
       "       'C:\\\\Users\\\\sarasij\\\\Desktop\\\\yaleface_project\\\\yaleface_face_extracted//subject09\\\\subject09_sad.jpg',\n",
       "       'C:\\\\Users\\\\sarasij\\\\Desktop\\\\yaleface_project\\\\yaleface_face_extracted//subject09\\\\subject09_sleepy.jpg',\n",
       "       'C:\\\\Users\\\\sarasij\\\\Desktop\\\\yaleface_project\\\\yaleface_face_extracted//subject09\\\\subject09_surprised.jpg',\n",
       "       'C:\\\\Users\\\\sarasij\\\\Desktop\\\\yaleface_project\\\\yaleface_face_extracted//subject09\\\\subject09_wink.jpg',\n",
       "       'C:\\\\Users\\\\sarasij\\\\Desktop\\\\yaleface_project\\\\yaleface_face_extracted//subject10\\\\subject10_centerlight.jpg',\n",
       "       'C:\\\\Users\\\\sarasij\\\\Desktop\\\\yaleface_project\\\\yaleface_face_extracted//subject10\\\\subject10_glasses.jpg',\n",
       "       'C:\\\\Users\\\\sarasij\\\\Desktop\\\\yaleface_project\\\\yaleface_face_extracted//subject10\\\\subject10_happy.jpg',\n",
       "       'C:\\\\Users\\\\sarasij\\\\Desktop\\\\yaleface_project\\\\yaleface_face_extracted//subject10\\\\subject10_leftlight.jpg',\n",
       "       'C:\\\\Users\\\\sarasij\\\\Desktop\\\\yaleface_project\\\\yaleface_face_extracted//subject10\\\\subject10_noglasses.jpg',\n",
       "       'C:\\\\Users\\\\sarasij\\\\Desktop\\\\yaleface_project\\\\yaleface_face_extracted//subject10\\\\subject10_normal.jpg',\n",
       "       'C:\\\\Users\\\\sarasij\\\\Desktop\\\\yaleface_project\\\\yaleface_face_extracted//subject10\\\\subject10_rightlight.jpg',\n",
       "       'C:\\\\Users\\\\sarasij\\\\Desktop\\\\yaleface_project\\\\yaleface_face_extracted//subject10\\\\subject10_sad.jpg',\n",
       "       'C:\\\\Users\\\\sarasij\\\\Desktop\\\\yaleface_project\\\\yaleface_face_extracted//subject10\\\\subject10_sleepy.jpg',\n",
       "       'C:\\\\Users\\\\sarasij\\\\Desktop\\\\yaleface_project\\\\yaleface_face_extracted//subject10\\\\subject10_surprised.jpg',\n",
       "       'C:\\\\Users\\\\sarasij\\\\Desktop\\\\yaleface_project\\\\yaleface_face_extracted//subject10\\\\subject10_wink.jpg',\n",
       "       'C:\\\\Users\\\\sarasij\\\\Desktop\\\\yaleface_project\\\\yaleface_face_extracted//subject11\\\\subject11_centerlight.jpg',\n",
       "       'C:\\\\Users\\\\sarasij\\\\Desktop\\\\yaleface_project\\\\yaleface_face_extracted//subject11\\\\subject11_glasses.jpg',\n",
       "       'C:\\\\Users\\\\sarasij\\\\Desktop\\\\yaleface_project\\\\yaleface_face_extracted//subject11\\\\subject11_happy.jpg',\n",
       "       'C:\\\\Users\\\\sarasij\\\\Desktop\\\\yaleface_project\\\\yaleface_face_extracted//subject11\\\\subject11_leftlight.jpg',\n",
       "       'C:\\\\Users\\\\sarasij\\\\Desktop\\\\yaleface_project\\\\yaleface_face_extracted//subject11\\\\subject11_noglasses.jpg',\n",
       "       'C:\\\\Users\\\\sarasij\\\\Desktop\\\\yaleface_project\\\\yaleface_face_extracted//subject11\\\\subject11_normal.jpg',\n",
       "       'C:\\\\Users\\\\sarasij\\\\Desktop\\\\yaleface_project\\\\yaleface_face_extracted//subject11\\\\subject11_rightlight.jpg',\n",
       "       'C:\\\\Users\\\\sarasij\\\\Desktop\\\\yaleface_project\\\\yaleface_face_extracted//subject11\\\\subject11_sad.jpg',\n",
       "       'C:\\\\Users\\\\sarasij\\\\Desktop\\\\yaleface_project\\\\yaleface_face_extracted//subject11\\\\subject11_sleepy.jpg',\n",
       "       'C:\\\\Users\\\\sarasij\\\\Desktop\\\\yaleface_project\\\\yaleface_face_extracted//subject11\\\\subject11_surprised.jpg',\n",
       "       'C:\\\\Users\\\\sarasij\\\\Desktop\\\\yaleface_project\\\\yaleface_face_extracted//subject11\\\\subject11_wink.jpg',\n",
       "       'C:\\\\Users\\\\sarasij\\\\Desktop\\\\yaleface_project\\\\yaleface_face_extracted//subject12\\\\subject12_centerlight.jpg',\n",
       "       'C:\\\\Users\\\\sarasij\\\\Desktop\\\\yaleface_project\\\\yaleface_face_extracted//subject12\\\\subject12_glasses.jpg',\n",
       "       'C:\\\\Users\\\\sarasij\\\\Desktop\\\\yaleface_project\\\\yaleface_face_extracted//subject12\\\\subject12_happy.jpg',\n",
       "       'C:\\\\Users\\\\sarasij\\\\Desktop\\\\yaleface_project\\\\yaleface_face_extracted//subject12\\\\subject12_leftlight.jpg',\n",
       "       'C:\\\\Users\\\\sarasij\\\\Desktop\\\\yaleface_project\\\\yaleface_face_extracted//subject12\\\\subject12_noglasses.jpg',\n",
       "       'C:\\\\Users\\\\sarasij\\\\Desktop\\\\yaleface_project\\\\yaleface_face_extracted//subject12\\\\subject12_normal.jpg',\n",
       "       'C:\\\\Users\\\\sarasij\\\\Desktop\\\\yaleface_project\\\\yaleface_face_extracted//subject12\\\\subject12_rightlight.jpg',\n",
       "       'C:\\\\Users\\\\sarasij\\\\Desktop\\\\yaleface_project\\\\yaleface_face_extracted//subject12\\\\subject12_sad.jpg',\n",
       "       'C:\\\\Users\\\\sarasij\\\\Desktop\\\\yaleface_project\\\\yaleface_face_extracted//subject12\\\\subject12_sleepy.jpg',\n",
       "       'C:\\\\Users\\\\sarasij\\\\Desktop\\\\yaleface_project\\\\yaleface_face_extracted//subject12\\\\subject12_surprised.jpg',\n",
       "       'C:\\\\Users\\\\sarasij\\\\Desktop\\\\yaleface_project\\\\yaleface_face_extracted//subject12\\\\subject12_wink.jpg',\n",
       "       'C:\\\\Users\\\\sarasij\\\\Desktop\\\\yaleface_project\\\\yaleface_face_extracted//subject13\\\\subject13_centerlight.jpg',\n",
       "       'C:\\\\Users\\\\sarasij\\\\Desktop\\\\yaleface_project\\\\yaleface_face_extracted//subject13\\\\subject13_glasses.jpg',\n",
       "       'C:\\\\Users\\\\sarasij\\\\Desktop\\\\yaleface_project\\\\yaleface_face_extracted//subject13\\\\subject13_happy.jpg',\n",
       "       'C:\\\\Users\\\\sarasij\\\\Desktop\\\\yaleface_project\\\\yaleface_face_extracted//subject13\\\\subject13_leftlight.jpg',\n",
       "       'C:\\\\Users\\\\sarasij\\\\Desktop\\\\yaleface_project\\\\yaleface_face_extracted//subject13\\\\subject13_noglasses.jpg',\n",
       "       'C:\\\\Users\\\\sarasij\\\\Desktop\\\\yaleface_project\\\\yaleface_face_extracted//subject13\\\\subject13_normal.jpg',\n",
       "       'C:\\\\Users\\\\sarasij\\\\Desktop\\\\yaleface_project\\\\yaleface_face_extracted//subject13\\\\subject13_rightlight.jpg',\n",
       "       'C:\\\\Users\\\\sarasij\\\\Desktop\\\\yaleface_project\\\\yaleface_face_extracted//subject13\\\\subject13_sad.jpg',\n",
       "       'C:\\\\Users\\\\sarasij\\\\Desktop\\\\yaleface_project\\\\yaleface_face_extracted//subject13\\\\subject13_sleepy.jpg',\n",
       "       'C:\\\\Users\\\\sarasij\\\\Desktop\\\\yaleface_project\\\\yaleface_face_extracted//subject13\\\\subject13_surprised.jpg',\n",
       "       'C:\\\\Users\\\\sarasij\\\\Desktop\\\\yaleface_project\\\\yaleface_face_extracted//subject13\\\\subject13_wink.jpg',\n",
       "       'C:\\\\Users\\\\sarasij\\\\Desktop\\\\yaleface_project\\\\yaleface_face_extracted//subject14\\\\subject14_centerlight.jpg',\n",
       "       'C:\\\\Users\\\\sarasij\\\\Desktop\\\\yaleface_project\\\\yaleface_face_extracted//subject14\\\\subject14_glasses.jpg',\n",
       "       'C:\\\\Users\\\\sarasij\\\\Desktop\\\\yaleface_project\\\\yaleface_face_extracted//subject14\\\\subject14_happy.jpg',\n",
       "       'C:\\\\Users\\\\sarasij\\\\Desktop\\\\yaleface_project\\\\yaleface_face_extracted//subject14\\\\subject14_leftlight.jpg',\n",
       "       'C:\\\\Users\\\\sarasij\\\\Desktop\\\\yaleface_project\\\\yaleface_face_extracted//subject14\\\\subject14_noglasses.jpg',\n",
       "       'C:\\\\Users\\\\sarasij\\\\Desktop\\\\yaleface_project\\\\yaleface_face_extracted//subject14\\\\subject14_normal.jpg',\n",
       "       'C:\\\\Users\\\\sarasij\\\\Desktop\\\\yaleface_project\\\\yaleface_face_extracted//subject14\\\\subject14_rightlight.jpg',\n",
       "       'C:\\\\Users\\\\sarasij\\\\Desktop\\\\yaleface_project\\\\yaleface_face_extracted//subject14\\\\subject14_sad.jpg',\n",
       "       'C:\\\\Users\\\\sarasij\\\\Desktop\\\\yaleface_project\\\\yaleface_face_extracted//subject14\\\\subject14_sleepy.jpg',\n",
       "       'C:\\\\Users\\\\sarasij\\\\Desktop\\\\yaleface_project\\\\yaleface_face_extracted//subject14\\\\subject14_surprised.jpg',\n",
       "       'C:\\\\Users\\\\sarasij\\\\Desktop\\\\yaleface_project\\\\yaleface_face_extracted//subject14\\\\subject14_wink.jpg',\n",
       "       'C:\\\\Users\\\\sarasij\\\\Desktop\\\\yaleface_project\\\\yaleface_face_extracted//subject15\\\\subject15_centerlight.jpg',\n",
       "       'C:\\\\Users\\\\sarasij\\\\Desktop\\\\yaleface_project\\\\yaleface_face_extracted//subject15\\\\subject15_glasses.jpg',\n",
       "       'C:\\\\Users\\\\sarasij\\\\Desktop\\\\yaleface_project\\\\yaleface_face_extracted//subject15\\\\subject15_happy.jpg',\n",
       "       'C:\\\\Users\\\\sarasij\\\\Desktop\\\\yaleface_project\\\\yaleface_face_extracted//subject15\\\\subject15_leftlight.jpg',\n",
       "       'C:\\\\Users\\\\sarasij\\\\Desktop\\\\yaleface_project\\\\yaleface_face_extracted//subject15\\\\subject15_noglasses.jpg',\n",
       "       'C:\\\\Users\\\\sarasij\\\\Desktop\\\\yaleface_project\\\\yaleface_face_extracted//subject15\\\\subject15_normal.jpg',\n",
       "       'C:\\\\Users\\\\sarasij\\\\Desktop\\\\yaleface_project\\\\yaleface_face_extracted//subject15\\\\subject15_rightlight.jpg',\n",
       "       'C:\\\\Users\\\\sarasij\\\\Desktop\\\\yaleface_project\\\\yaleface_face_extracted//subject15\\\\subject15_sad.jpg',\n",
       "       'C:\\\\Users\\\\sarasij\\\\Desktop\\\\yaleface_project\\\\yaleface_face_extracted//subject15\\\\subject15_sleepy.jpg',\n",
       "       'C:\\\\Users\\\\sarasij\\\\Desktop\\\\yaleface_project\\\\yaleface_face_extracted//subject15\\\\subject15_surprised.jpg',\n",
       "       'C:\\\\Users\\\\sarasij\\\\Desktop\\\\yaleface_project\\\\yaleface_face_extracted//subject15\\\\subject15_wink.jpg'],\n",
       "      dtype='<U102')"
      ]
     },
     "execution_count": 57,
     "metadata": {},
     "output_type": "execute_result"
    }
   ],
   "source": [
    "images"
   ]
  },
  {
   "cell_type": "code",
   "execution_count": 65,
   "id": "d8ef28f8",
   "metadata": {},
   "outputs": [],
   "source": [
    "for image in images:\n",
    "    img = cv2.imread(image)\n",
    "    img = cv2.resize(img,(64,64))\n",
    "    cv2.imwrite(image,img)\n",
    "    "
   ]
  },
  {
   "cell_type": "code",
   "execution_count": 59,
   "id": "b16f7208",
   "metadata": {},
   "outputs": [],
   "source": [
    "img = cv2.imread(image)"
   ]
  },
  {
   "cell_type": "code",
   "execution_count": 60,
   "id": "c39b6df4",
   "metadata": {},
   "outputs": [
    {
     "data": {
      "text/plain": [
       "array([[[ 58,  58,  58],\n",
       "        [ 67,  67,  67],\n",
       "        [ 74,  74,  74],\n",
       "        ...,\n",
       "        [ 22,  22,  22],\n",
       "        [ 24,  24,  24],\n",
       "        [ 25,  25,  25]],\n",
       "\n",
       "       [[ 62,  62,  62],\n",
       "        [ 69,  69,  69],\n",
       "        [ 73,  73,  73],\n",
       "        ...,\n",
       "        [ 23,  23,  23],\n",
       "        [ 24,  24,  24],\n",
       "        [ 24,  24,  24]],\n",
       "\n",
       "       [[ 65,  65,  65],\n",
       "        [ 70,  70,  70],\n",
       "        [ 72,  72,  72],\n",
       "        ...,\n",
       "        [ 27,  27,  27],\n",
       "        [ 28,  28,  28],\n",
       "        [ 27,  27,  27]],\n",
       "\n",
       "       ...,\n",
       "\n",
       "       [[132, 132, 132],\n",
       "        [145, 145, 145],\n",
       "        [140, 140, 140],\n",
       "        ...,\n",
       "        [ 78,  78,  78],\n",
       "        [ 96,  96,  96],\n",
       "        [124, 124, 124]],\n",
       "\n",
       "       [[138, 138, 138],\n",
       "        [145, 145, 145],\n",
       "        [136, 136, 136],\n",
       "        ...,\n",
       "        [ 88,  88,  88],\n",
       "        [108, 108, 108],\n",
       "        [133, 133, 133]],\n",
       "\n",
       "       [[143, 143, 143],\n",
       "        [141, 141, 141],\n",
       "        [138, 138, 138],\n",
       "        ...,\n",
       "        [ 96,  96,  96],\n",
       "        [126, 126, 126],\n",
       "        [165, 165, 165]]], dtype=uint8)"
      ]
     },
     "execution_count": 60,
     "metadata": {},
     "output_type": "execute_result"
    }
   ],
   "source": [
    "img"
   ]
  },
  {
   "cell_type": "code",
   "execution_count": 61,
   "id": "d327ea69",
   "metadata": {},
   "outputs": [
    {
     "data": {
      "text/plain": [
       "array([[[ 63,  63,  63],\n",
       "        [ 75,  75,  75],\n",
       "        [ 86,  86,  86],\n",
       "        ...,\n",
       "        [ 31,  31,  31],\n",
       "        [ 23,  23,  23],\n",
       "        [ 24,  24,  24]],\n",
       "\n",
       "       [[ 66,  66,  66],\n",
       "        [ 72,  72,  72],\n",
       "        [ 82,  82,  82],\n",
       "        ...,\n",
       "        [ 32,  32,  32],\n",
       "        [ 29,  29,  29],\n",
       "        [ 29,  29,  29]],\n",
       "\n",
       "       [[ 61,  61,  61],\n",
       "        [ 71,  71,  71],\n",
       "        [ 82,  82,  82],\n",
       "        ...,\n",
       "        [ 31,  31,  31],\n",
       "        [ 35,  35,  35],\n",
       "        [ 36,  36,  36]],\n",
       "\n",
       "       ...,\n",
       "\n",
       "       [[130, 130, 130],\n",
       "        [139, 139, 139],\n",
       "        [128, 128, 128],\n",
       "        ...,\n",
       "        [ 46,  46,  46],\n",
       "        [ 55,  55,  55],\n",
       "        [ 80,  80,  80]],\n",
       "\n",
       "       [[140, 140, 140],\n",
       "        [139, 139, 139],\n",
       "        [132, 132, 132],\n",
       "        ...,\n",
       "        [ 52,  52,  52],\n",
       "        [ 69,  69,  69],\n",
       "        [105, 105, 105]],\n",
       "\n",
       "       [[142, 142, 142],\n",
       "        [139, 139, 139],\n",
       "        [134, 134, 134],\n",
       "        ...,\n",
       "        [ 56,  56,  56],\n",
       "        [ 85,  85,  85],\n",
       "        [136, 136, 136]]], dtype=uint8)"
      ]
     },
     "execution_count": 61,
     "metadata": {},
     "output_type": "execute_result"
    }
   ],
   "source": [
    "cv2.resize(img,(64,64))"
   ]
  },
  {
   "cell_type": "code",
   "execution_count": 63,
   "id": "0ab9a70a",
   "metadata": {},
   "outputs": [
    {
     "data": {
      "text/plain": [
       "'C://Users//sarasij//Desktop//yaleface_project//yaleface_face_extracted//subject01//subject1_centerlight.jpg'"
      ]
     },
     "execution_count": 63,
     "metadata": {},
     "output_type": "execute_result"
    }
   ],
   "source": [
    "image.replace(\"\\\\\",\"//\")"
   ]
  },
  {
   "cell_type": "code",
   "execution_count": null,
   "id": "32afabc5",
   "metadata": {},
   "outputs": [],
   "source": []
  }
 ],
 "metadata": {
  "kernelspec": {
   "display_name": "Python 3 (ipykernel)",
   "language": "python",
   "name": "python3"
  },
  "language_info": {
   "codemirror_mode": {
    "name": "ipython",
    "version": 3
   },
   "file_extension": ".py",
   "mimetype": "text/x-python",
   "name": "python",
   "nbconvert_exporter": "python",
   "pygments_lexer": "ipython3",
   "version": "3.9.12"
  }
 },
 "nbformat": 4,
 "nbformat_minor": 5
}
